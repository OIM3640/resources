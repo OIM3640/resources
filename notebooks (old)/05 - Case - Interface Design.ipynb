{
 "cells": [
  {
   "cell_type": "markdown",
   "metadata": {},
   "source": [
    "# Case: Interface Design\n",
    "\n",
    "This chapter presents a case study that demonstrates a process for designing functions that work together. It introduces the <code>turtle</code> module, which allows you to create images using turtle graphics.The turtle module is included in most Python installations.\n",
    "\n",
    "\n",
    "<https://docs.python.org/3/library/turtle.html>\n",
    "\n",
    "\n",
    "## The `turtle` module\n",
    "\n"
   ]
  },
  {
   "cell_type": "code",
   "execution_count": null,
   "metadata": {},
   "outputs": [],
   "source": [
    "import turtle\n",
    "leo = turtle.Turtle()"
   ]
  },
  {
   "cell_type": "markdown",
   "metadata": {},
   "source": [
    "Create a file named <code>my_polygon.py</code> and type in the following code:"
   ]
  },
  {
   "cell_type": "code",
   "execution_count": null,
   "metadata": {},
   "outputs": [],
   "source": [
    "import turtle\n",
    "leo = turtle.Turtle()\n",
    "print(leo) #This tells us that leo refers to an object with type Turtle as defined in module turtle.\n",
    "turtle.mainloop()"
   ]
  },
  {
   "cell_type": "markdown",
   "metadata": {},
   "source": [
    "<code>mainloop</code> tells the window to wait for the user to do something, although in this case there’s not much for the user to do except close the window.\n",
    "\n",
    "Then we call a **method** to move the small arrow around the window."
   ]
  },
  {
   "cell_type": "code",
   "execution_count": null,
   "metadata": {},
   "outputs": [],
   "source": [
    "leo.fd(100)"
   ]
  },
  {
   "cell_type": "markdown",
   "metadata": {},
   "source": [
    "Calling a *method* is like making a request: you are asking leo to move forward. The argument of <code>fd</code> is a distance in pixels, so the actual size depends on your display.\n",
    "\n",
    "To draw a right angle, add these lines to the program (after creating <code>leo</code> and before calling <code>mainloop</code>):"
   ]
  },
  {
   "cell_type": "code",
   "execution_count": null,
   "metadata": {},
   "outputs": [],
   "source": [
    "leo.fd(100)\n",
    "leo.lt(90)\n",
    "leo.fd(100)"
   ]
  },
  {
   "cell_type": "markdown",
   "metadata": {},
   "source": [
    "### ***Exercise 01***\n",
    "\n",
    "Now modify the program to draw a square."
   ]
  },
  {
   "cell_type": "markdown",
   "metadata": {},
   "source": [
    "## Simple repetition\n",
    "\n",
    "\n",
    "We can do the same thing more concisely with a <code>for</code> statement. \n",
    "\n",
    "A <code>for</code>  statement is also called a **loop** because the flow of execution runs through the body and then loops back to the top."
   ]
  },
  {
   "cell_type": "code",
   "execution_count": null,
   "metadata": {},
   "outputs": [],
   "source": [
    "for i in range(4):\n",
    "    print('Hello!')"
   ]
  },
  {
   "cell_type": "markdown",
   "metadata": {},
   "source": [
    "### ***Exercise 02***\n",
    "\n",
    "The following sections have solutions to the exercises, so don’t look until you have finished (or at least tried). \n",
    "\n",
    "1\\. Write a function called <code>square</code> that takes a parameter named <code>t</code>, which is a turtle. It should use the turtle to draw a square. Write a function call that passes <code>leo</code> as an argument to <code>square</code>, and then run the program again.\n",
    "\n",
    "\n",
    "\n",
    "2\\. Add another parameter, named <code>length</code>, to <code>square</code>. Modify the body so length of the sides is <code>length</code>, and then modify the function call to provide a second argument. Run the program again. Test your program with a range of values for <code>length</code>.\n",
    "\n",
    "\n",
    "3\\. Make a copy of <code>square</code> and change the name to polygon. Add another parameter named <code>n</code> and modify the body so it draws an n-sided regular polygon. Hint: The exterior angles of an n-sided regular polygon are 360/n degrees.\n",
    "\n",
    "\n",
    "4\\. Write a function called <code>circle</code> that takes a turtle, <code>t</code>, and radius, <code>r</code>, as parameters and that draws an approximate circle by calling <code>polygon</code> with an appropriate length and number of sides. Test your function with a range of values of <code>r</code>.\n",
    "Hint: figure out the circumference of the circle and make sure that <code>length * n = circumference</code>.\n",
    "\n",
    "\n",
    "5\\. Make a more general version of <code>circle</code> called <code>arc</code> that takes an additional parameter <code>angle</code>, which determines what fraction of a circle to draw. <code>angle</code> is in units of degrees, so when <code>angle=360</code>, <code>arc</code> should draw a complete circle. "
   ]
  },
  {
   "cell_type": "markdown",
   "metadata": {},
   "source": [
    "## Encapsulation\n",
    "\n"
   ]
  },
  {
   "cell_type": "code",
   "execution_count": null,
   "metadata": {},
   "outputs": [],
   "source": [
    "# Exercise 2.1\n",
    "def square(t):\n",
    "    for i in range(4):\n",
    "        t.fd(100)\n",
    "        t.lt(90)\n",
    "\n",
    "square(leo)"
   ]
  },
  {
   "cell_type": "markdown",
   "metadata": {},
   "source": [
    "Inside the function, <code>t</code> refers to the same turtle <code>leo</code>, so <code>t.lt(90)</code> has the same effect as <code>leo.lt(90)</code>. In that case, why not call the parameter <code>leo</code>? The idea is that <code>t</code> can be any turtle, not just <code>leo</code>, so you could create a second turtle and pass it as an argument to square:\n"
   ]
  },
  {
   "cell_type": "code",
   "execution_count": null,
   "metadata": {},
   "outputs": [],
   "source": [
    "raphael = turtle.Turtle()\n",
    "square(raphael)"
   ]
  },
  {
   "cell_type": "markdown",
   "metadata": {},
   "source": [
    "Wrapping a piece of code up in a function is called **encapsulation**."
   ]
  },
  {
   "cell_type": "markdown",
   "metadata": {},
   "source": [
    "## Generalization\n",
    "\n"
   ]
  },
  {
   "cell_type": "code",
   "execution_count": null,
   "metadata": {},
   "outputs": [],
   "source": [
    "# Exercise 2.2\n",
    "def square(t, length):\n",
    "    for i in range(4):\n",
    "        t.fd(length)\n",
    "        t.lt(90)\n",
    "\n",
    "square(leo, 100)"
   ]
  },
  {
   "cell_type": "markdown",
   "metadata": {},
   "source": [
    "Adding a parameter to a function is called **generalization** because it makes the function more general: in the previous version, the square is always the same size; in this version it can be any size. "
   ]
  },
  {
   "cell_type": "code",
   "execution_count": null,
   "metadata": {},
   "outputs": [],
   "source": [
    "# Exercise 2.3\n",
    "def polygon(t, n, length):\n",
    "    angle = 360 / n\n",
    "    for i in range(n):\n",
    "        t.fd(length)\n",
    "        t.lt(angle)\n",
    "\n",
    "polygon(leo, 7, 70)"
   ]
  },
  {
   "cell_type": "markdown",
   "metadata": {},
   "source": [
    "When a function has more than a few numeric arguments, it is easy to forget what they are, or what order they should be in. In that case it is often a good idea to include the names of the parameters in the argument list:"
   ]
  },
  {
   "cell_type": "code",
   "execution_count": null,
   "metadata": {},
   "outputs": [],
   "source": [
    "polygon(leo, n=7, length=70)"
   ]
  },
  {
   "cell_type": "markdown",
   "metadata": {},
   "source": [
    "These are called **keyword arguments** because they include the parameter names as “keywords”.\n",
    "<https://docs.python.org/3/tutorial/controlflow.html#keyword-arguments>\n",
    "\n",
    "This syntax makes the program more readable. It is also a reminder about how arguments and parameters work: when you call a function, the arguments are assigned to the parameters."
   ]
  },
  {
   "cell_type": "markdown",
   "metadata": {},
   "source": [
    "## Interface design\n",
    "\n"
   ]
  },
  {
   "cell_type": "code",
   "execution_count": null,
   "metadata": {},
   "outputs": [],
   "source": [
    "# Exercise 2.4\n",
    "import math\n",
    "\n",
    "def circle(t, r):\n",
    "    circumference = 2 * math.pi * r\n",
    "    n = 50\n",
    "    length = circumference / n\n",
    "    polygon(t, n, length)\n"
   ]
  },
  {
   "cell_type": "markdown",
   "metadata": {},
   "source": [
    "The **interface** of a function is a summary of how it is used: what are the parameters? What does the function do? And what is the return value? An interface is “clean” if it allows the caller to do what they want without dealing with unnecessary details.\n",
    "\n",
    "Rather than clutter up the interface, it is better to choose an appropriate value of n depending on <code>circumference</code>:"
   ]
  },
  {
   "cell_type": "code",
   "execution_count": null,
   "metadata": {},
   "outputs": [],
   "source": [
    "def circle(t, r):\n",
    "    circumference = 2 * math.pi * r\n",
    "    n = int(circumference / 3) + 1\n",
    "    length = circumference / n\n",
    "    polygon(t, n, length)"
   ]
  },
  {
   "cell_type": "markdown",
   "metadata": {},
   "source": [
    "## Refactoring\n",
    "\n"
   ]
  },
  {
   "cell_type": "code",
   "execution_count": null,
   "metadata": {},
   "outputs": [],
   "source": [
    "def arc(t, r, angle):\n",
    "    arc_length = 2 * math.pi * r * angle / 360\n",
    "    n = int(arc_length / 3) + 1\n",
    "    step_length = arc_length / n\n",
    "    step_angle = angle / n\n",
    "    \n",
    "    for i in range(n):\n",
    "        t.fd(step_length)\n",
    "        t.lt(step_angle)"
   ]
  },
  {
   "cell_type": "markdown",
   "metadata": {},
   "source": [
    "The second half of this function looks like <code>polygon</code>, but we can’t reuse <code>polygon</code> without changing the interface. We could generalize <code>polygon</code> to take an angle as a third argument, but then <code>polygon</code> would no longer be an appropriate name! Instead, let’s call the more general function <code>polyline</code>:"
   ]
  },
  {
   "cell_type": "code",
   "execution_count": null,
   "metadata": {},
   "outputs": [],
   "source": [
    "def polyline(t, n, length, angle):\n",
    "    for i in range(n):\n",
    "        t.fd(length)\n",
    "        t.lt(angle)"
   ]
  },
  {
   "cell_type": "markdown",
   "metadata": {},
   "source": [
    "Now we can rewrite polygon and arc."
   ]
  },
  {
   "cell_type": "code",
   "execution_count": null,
   "metadata": {},
   "outputs": [],
   "source": [
    "def polygon(t, n, length):\n",
    "    angle = 360.0 / n\n",
    "    polyline(t, n, length, angle)\n",
    "\n",
    "def arc(t, r, angle):\n",
    "    arc_length = 2 * math.pi * r * angle / 360\n",
    "    n = int(arc_length / 3) + 1\n",
    "    step_length = arc_length / n\n",
    "    step_angle = float(angle) / n\n",
    "    polyline(t, n, step_length, step_angle)"
   ]
  },
  {
   "cell_type": "markdown",
   "metadata": {},
   "source": [
    "Finally, we can rewrite circle:"
   ]
  },
  {
   "cell_type": "code",
   "execution_count": null,
   "metadata": {},
   "outputs": [],
   "source": [
    "def circle(t, r):\n",
    "    arc(t, r, 360)"
   ]
  },
  {
   "cell_type": "markdown",
   "metadata": {},
   "source": [
    "This process - rearranging a program to improve interfaces and facilitate code reuse - is called **refactoring**. In this case, we noticed that there was similar code in <code>arc</code> and <code>polygon</code>, so we “factored it out” into <code>polyline</code>. "
   ]
  },
  {
   "cell_type": "markdown",
   "metadata": {},
   "source": [
    "## docstring\n",
    "\n",
    "A docstring is a string at the beginning of a function that explains the interface (“doc” is short for “documentation”). Here is an example:\n"
   ]
  },
  {
   "cell_type": "code",
   "execution_count": null,
   "metadata": {},
   "outputs": [],
   "source": [
    "def polyline(t, n, length, angle):\n",
    "    \"\"\"Draws n line segments with the given length and\n",
    "    angle (in degrees) between them. t is a turtle.\n",
    "    \"\"\"    \n",
    "    for i in range(n):\n",
    "        t.fd(length)\n",
    "        t.lt(angle)"
   ]
  },
  {
   "cell_type": "markdown",
   "metadata": {
    "jp-MarkdownHeadingCollapsed": true,
    "tags": []
   },
   "source": [
    "### ***Exercise 03***\n",
    "\n",
    "1\\. Write an appropriately general set of functions that can draw shapes as below. **Tips**: draw 60 squares, turning right 5 degrees after each square.\n",
    "<img src=\"circle_of_squares.png\" width=\"300\">\n",
    "\n",
    "2\\. Write an appropriately general set of functions that can draw shapes as below. **Tips**: draw 60 squares, turning 5 degrees after each square and making each successive square bigger. Start at a length of 30 and increment 4 units every square.\n",
    "\n",
    "<img src=\"spiral_squares.png\" width=\"300\">\n",
    "\n",
    "3\\. Write an appropriately general set of functions that can draw shapes as below.\n",
    "\n",
    "<img src=\"spiral_stars.png\" width=\"300\">\n",
    "\n",
    "4\\. Write an appropriately general set of functions that can draw any other kind of spiral, such as an Archimedian spiral. Read more about spirals at http://en.wikipedia.org/wiki/Spiral."
   ]
  },
  {
   "cell_type": "markdown",
   "metadata": {},
   "source": [
    "### ***Exercise 04*** (optional)\n",
    "\n",
    "Write an appropriately general set of functions that can draw shapes as below. The third shape is optional.\n",
    "\n",
    "<img src=\"flower.jpg\" width=\"300\">\n",
    "<img src=\"yin-yang.jpg\" width=\"300\">\n",
    "<img src=\"geometric.png\" width=\"300\">\n"
   ]
  }
 ],
 "metadata": {
  "anaconda-cloud": {},
  "kernelspec": {
   "display_name": "Python 3",
   "language": "python",
   "name": "python3"
  },
  "language_info": {
   "codemirror_mode": {
    "name": "ipython",
    "version": 3
   },
   "file_extension": ".py",
   "mimetype": "text/x-python",
   "name": "python",
   "nbconvert_exporter": "python",
   "pygments_lexer": "ipython3",
   "version": "3.8.10"
  }
 },
 "nbformat": 4,
 "nbformat_minor": 4
}
