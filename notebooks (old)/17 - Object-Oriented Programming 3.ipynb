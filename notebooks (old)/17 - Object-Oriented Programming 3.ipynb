{
 "cells": [
  {
   "cell_type": "markdown",
   "metadata": {},
   "source": [
    "# Classes and methods\n",
    "\n",
    "\n",
    "Although we are using some of Python’s object-oriented features, the programs from the last two chapters **are not really object-oriented** because they don’t represent the relationships between programmer-defined types and the functions that operate on them. The next step is to **transform those functions into methods** that make the relationships explicit.\n",
    "\n",
    "## Object-oriented features\n",
    "\n",
    "- Programs include class and method definitions.\n",
    "- Most of the computation is expressed in terms of operations on objects.\n",
    "- Objects often represent things in the real world, and methods often correspond to the ways things in the real world interact."
   ]
  },
  {
   "cell_type": "markdown",
   "metadata": {},
   "source": [
    "Recall in *Time1.py*, every function takes at least one Time object as an argument. \n",
    "\n",
    "This observation is the motivation for **methods**; a method is a function that is associated with a particular class. We have seen methods for strings, lists, dictionaries and tuples. In this chapter, we will define methods for programmer-defined types. "
   ]
  },
  {
   "cell_type": "markdown",
   "metadata": {},
   "source": [
    "## Methods vs. functions\n",
    "\n",
    "- Methods are defined inside a class definition in order to make the relationship between the class and the method explicit.\n",
    "- The syntax for invoking a method is different from the syntax for calling a function."
   ]
  },
  {
   "cell_type": "markdown",
   "metadata": {},
   "source": [
    "## Printing ojects"
   ]
  },
  {
   "cell_type": "code",
   "execution_count": null,
   "metadata": {},
   "outputs": [],
   "source": [
    "class Time:\n",
    "    \"\"\"Represents the time of day.\"\"\"\n",
    "\n",
    "def print_time(time):\n",
    "    print(f'{time.hour:02}:{time.minute:02}:{time.second:02}')\n",
    "\n",
    "start = Time()\n",
    "start.hour = 9\n",
    "start.minute = 45\n",
    "start.second = 0\n",
    "print_time(start)"
   ]
  },
  {
   "cell_type": "markdown",
   "metadata": {},
   "source": [
    "To make <code>print_time</code> a **method**, all we have to do is move the function definition inside the class definition. Notice the change in indentation. "
   ]
  },
  {
   "cell_type": "code",
   "execution_count": null,
   "metadata": {},
   "outputs": [],
   "source": [
    "class Time:\n",
    "    def print_time(self):\n",
    "        print(f'{self.hour:02}:{self.minute:02}:{self.second:02}')\n",
    "\n",
    "start = Time()\n",
    "start.hour = 9\n",
    "start.minute = 45\n",
    "start.second = 0\n",
    "\n",
    "# Two ways to call:\n",
    "Time.print_time(start)\n",
    "start.print_time()"
   ]
  },
  {
   "cell_type": "markdown",
   "metadata": {},
   "source": [
    "- The syntax for a function call, `print_time(start)`, suggests that the function is the active agent. It says something like, “Hey print_time! Here’s an object for you to print.”\n",
    "- In object-oriented programming, the objects are the active agents. A method invocation like `start.print_time()` says “Hey start! Please print yourself.”"
   ]
  },
  {
   "cell_type": "markdown",
   "metadata": {},
   "source": [
    "### ***Exercise 01***\n",
    "\n",
    "Rewrite <code>time_to_int</code> as a method."
   ]
  },
  {
   "cell_type": "markdown",
   "metadata": {},
   "source": [
    "## A more complicated example"
   ]
  },
  {
   "cell_type": "code",
   "execution_count": null,
   "metadata": {},
   "outputs": [],
   "source": [
    "# inside class Time:\n",
    "\n",
    "    def is_after(self, other):\n",
    "        return self.time_to_int() > other.time_to_int()\n",
    "    \n",
    "# To use this method, you have to invoke it on one object \n",
    "# and pass the other as an argument:\n",
    "\n",
    "end = start.increment(1337)\n",
    "end.is_after(start)    "
   ]
  },
  {
   "cell_type": "markdown",
   "metadata": {},
   "source": [
    "One nice thing about this syntax is that it almost reads like English: “end is after start?”"
   ]
  },
  {
   "cell_type": "markdown",
   "metadata": {},
   "source": [
    "## The <code>__init__</code> method\n",
    "\n",
    "\n",
    "The `init` method (short for “initialization”) is a special method that gets invoked when an object is instantiated. Its full name is <code>__init__</code> (two underscore characters, followed by <code>init</code>, and then two more underscores). An `init` method for the `Time` class might look like this:"
   ]
  },
  {
   "cell_type": "code",
   "execution_count": null,
   "metadata": {},
   "outputs": [],
   "source": [
    "# inside class Time:\n",
    "\n",
    "    def __init__(self, hour=0, minute=0, second=0): \n",
    "        self.hour = hour\n",
    "        self.minute = minute\n",
    "        self.second = second"
   ]
  },
  {
   "cell_type": "code",
   "execution_count": null,
   "metadata": {},
   "outputs": [],
   "source": [
    "time = Time()\n",
    "time.print_time()\n",
    "time = Time (9)\n",
    "time.print_time()\n",
    "time = Time(9, 45)\n",
    "time.print_time()"
   ]
  },
  {
   "cell_type": "markdown",
   "metadata": {},
   "source": [
    "### ***Exercise 02***\n",
    "\n",
    "Write an <code>__init__</code> method for the `Point` class that takes `x` and `y` as optional parameters and assigns them to the corresponding attributes. "
   ]
  },
  {
   "cell_type": "markdown",
   "metadata": {},
   "source": [
    "## The <code>__str__</code> method\n",
    "\n",
    "\n",
    "\n",
    "<code>__str__</code> is a special method that is supposed to return a string representation of an object.\n",
    "\n",
    "For example, here is a str method for Time objects:"
   ]
  },
  {
   "cell_type": "code",
   "execution_count": null,
   "metadata": {},
   "outputs": [],
   "source": [
    "# inside class Time:\n",
    "\n",
    "    def __str__(self):\n",
    "        return f'{self.hour:02}:{self.minute:02}:{self.second:02}'"
   ]
  },
  {
   "cell_type": "markdown",
   "metadata": {},
   "source": [
    "When you <code>print</code> an object, Python invokes the <code>str</code> method: "
   ]
  },
  {
   "cell_type": "code",
   "execution_count": null,
   "metadata": {},
   "outputs": [],
   "source": [
    "time = Time(9, 45)\n",
    "print(time)"
   ]
  },
  {
   "cell_type": "markdown",
   "metadata": {},
   "source": [
    "When I write a new class, I almost always start by writing <code>__init__</code>, which makes it easier to instantiate objects, and <code>__str__</code>, which is useful for debugging.\n",
    "\n",
    "### ***Exercise 03***\n",
    "\n",
    "Write a <code>__str__</code> method for the Point class. Create a Point object and print it."
   ]
  },
  {
   "cell_type": "markdown",
   "metadata": {},
   "source": [
    "## Operator overloading\n",
    "\n"
   ]
  },
  {
   "cell_type": "code",
   "execution_count": null,
   "metadata": {},
   "outputs": [],
   "source": [
    "# inside class Time:\n",
    "\n",
    "    def __add__(self, other):\n",
    "        seconds = self.time_to_int() + other.time_to_int()\n",
    "        return int_to_time(seconds)\n"
   ]
  },
  {
   "cell_type": "code",
   "execution_count": null,
   "metadata": {},
   "outputs": [],
   "source": [
    "start = Time(9, 45)\n",
    "duration = Time(1, 35)\n",
    "print(start + duration)"
   ]
  },
  {
   "cell_type": "markdown",
   "metadata": {},
   "source": [
    "When you apply the `+` operator to Time objects, Python invokes <code>__add__</code>. When you print the result, Python invokes <code>__str__</code>. So there is a lot happening behind the scenes!\n",
    "\n",
    "Changing the behavior of an operator so that it works with programmer-defined types is called **operator overloading**. For every operator in Python there is a corresponding special method, like <code>__add__</code>. For more details, see http://docs.python.org/3/reference/datamodel.html#specialnames.\n",
    "\n",
    "\n",
    "### ***Exercise 04***\n",
    "\n",
    "Write an <code>__add__</code> method for the <code>Point</code> class. "
   ]
  },
  {
   "cell_type": "markdown",
   "metadata": {},
   "source": [
    "### ***Exercise 05*** (group work)\n",
    "\n",
    "Write a definition for a class of anything you want. You have to use the following methods:\n",
    "1. <code>__init__</code> method that initializes some attributes. One of the attributes has to be an empty list.\n",
    "\n",
    "2. <code>__str__</code> method that returns a string that reasonably represent the thing.\n",
    "\n",
    "3. A **special method** that overloads the one type of operators.\n",
    "\n",
    "4. Some other methods that reasonably represent the thing's actions, inclduing one method that takes an object of any type and adds it to the attribute of type list.\n",
    "\n",
    "Test your code by creating two objects and using all the methods.\n"
   ]
  }
 ],
 "metadata": {
  "anaconda-cloud": {},
  "kernelspec": {
   "display_name": "Python 3",
   "language": "python",
   "name": "python3"
  },
  "language_info": {
   "codemirror_mode": {
    "name": "ipython",
    "version": 3
   },
   "file_extension": ".py",
   "mimetype": "text/x-python",
   "name": "python",
   "nbconvert_exporter": "python",
   "pygments_lexer": "ipython3",
   "version": "3.8.10"
  }
 },
 "nbformat": 4,
 "nbformat_minor": 4
}
