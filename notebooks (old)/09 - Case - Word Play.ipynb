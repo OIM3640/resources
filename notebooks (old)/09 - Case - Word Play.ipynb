{
 "cells": [
  {
   "cell_type": "markdown",
   "metadata": {},
   "source": [
    "# Case Study: Word Play\n",
    "\n",
    "In this case study, we will be solving word puzzles by searching for words that have certain properties. For example, we’ll find the longest palindromes in English and search for words whose letters appear in alphabetical order. \n",
    "\n",
    "## Read word lists\n",
    "\n",
    "For the exercises in this chapter we need a list of English words. There are lots of word lists available on the Web, but the one most suitable for our purpose is one of the word lists collected and contributed to the public domain by Grady Ward as part of the Moby lexicon project (see https://wikipedia.org/wiki/Moby_Project). \n",
    "\n",
    "The word list we will use is in [resources/code](https://github.com/OIM3640/resources/tree/main/code) on GitHub. Download *words.txt* and put it under folder *oim3640/data*.\n",
    "\n",
    "This file is in plain text, so obviously you can open it with a text editor. You can also read it using Python. The built-in function `open` takes the name of the file as a parameter and returns a file object you can use to read the file. "
   ]
  },
  {
   "cell_type": "code",
   "execution_count": null,
   "metadata": {},
   "outputs": [],
   "source": [
    "# if\n",
    "fin = open('data/words.txt') # or fin = open('data/words.txt') "
   ]
  },
  {
   "cell_type": "code",
   "execution_count": null,
   "metadata": {},
   "outputs": [],
   "source": [
    "line = repr(fin.readline()) \n",
    "#https://docs.python.org/3/library/functions.html#repr\n",
    "\n",
    "print(line)"
   ]
  },
  {
   "cell_type": "code",
   "execution_count": null,
   "metadata": {},
   "outputs": [],
   "source": [
    "line = fin.readline()\n",
    "word = line.strip()\n",
    "print(word)"
   ]
  },
  {
   "cell_type": "markdown",
   "metadata": {},
   "source": [
    "We can also use a file object as part of a for loop. This program reads words.txt and prints each word, one per line: "
   ]
  },
  {
   "cell_type": "code",
   "execution_count": null,
   "metadata": {},
   "outputs": [],
   "source": [
    "fin = open('data/words.txt')\n",
    "for line in fin:\n",
    "    word = line.strip()\n",
    "    print(word)"
   ]
  },
  {
   "cell_type": "markdown",
   "metadata": {},
   "source": [
    "## ***Exercise 01***\n",
    "\n",
    "**Download *word.py* in *resources/code* on GitHub and finish the functions in *word.py* to solve the following problems.**\n",
    "\n",
    "There are solutions to these exercises in the next section. You should at least attempt each one before you read the solutions.\n",
    "\n",
    "1\\.  Write a program that reads <code>words.txt</code> and prints only the words with more than 20 characters (not counting whitespace).\n",
    "\n",
    "       \n",
    "2\\.  In 1939 Ernest Vincent Wright published a 50,000 word novel called *Gadsby* that does not contain the letter “e”. Since “e” is the most common letter in English, that’s not easy to do.\n",
    "\n",
    "  Write a function called <code>has_no_e</code> that returns <code>True</code> if the given word doesn’t have the letter “e” in it.\n",
    "\n",
    "  Modify your program from the previous section to print only the words that have no “e” and compute the percentage of the words in the list that have no “e”.   \n",
    "    \n",
    "3\\. Write a function named <code>avoids</code> that takes a word and a string of forbidden letters, and that returns <code>True</code> if the word doesn’t use any of the forbidden letters.\n",
    "\n",
    "  Modify your program to prompt the user to enter a string of forbidden letters and then print the number of words that don’t contain any of them. Can you find a combination of 5 forbidden letters that excludes the smallest number of words?  \n",
    "  \n",
    "4\\. According to Dan Brown's <i>The Da Vinci Code</i>, there are **62 other English words** of varying lengths that could be formed using the letters in word \"planets\". Can you find them out?\n",
    "\n",
    "\n",
    "<center><img src=\"planet-da-vinci-code.png\" width=\"300\" alt=\"Da Vinci Code\"/></center>\n",
    "  \n",
    "Write a function named <code>uses_only</code> that takes a word and a string of letters, and that returns <code>True</code> if the word contains only letters in the string. \n",
    "\n",
    "5\\. Write a function named <code>uses_all</code> that takes a word and a string of required letters, and that returns <code>True</code> if the word uses all the required letters at least once. How many words are there that use all the vowels <code>aeiou</code>? How about <code>aeiouy</code>? \n",
    "\n",
    "\n",
    "6\\. Write a function called <code>is_abecedarian</code> that returns <code>True</code> if the letters in a word appear in alphabetical order (double letters are ok). How many abecedarian words are there?\n",
    "\n",
    "\n",
    "**Stop here and finish *word.py*.**"
   ]
  },
  {
   "cell_type": "markdown",
   "metadata": {},
   "source": [
    "## Search\n",
    "\n",
    "All the functions can be solved with the search pattern:"
   ]
  },
  {
   "cell_type": "code",
   "execution_count": null,
   "metadata": {},
   "outputs": [],
   "source": [
    "def has_no_e(word):\n",
    "    for letter in word:\n",
    "        if letter == 'e':\n",
    "            return False\n",
    "    return True"
   ]
  },
  {
   "cell_type": "markdown",
   "metadata": {},
   "source": [
    "`avoids` is a more general version of has_no_e but it has the same structure:"
   ]
  },
  {
   "cell_type": "code",
   "execution_count": null,
   "metadata": {},
   "outputs": [],
   "source": [
    "def avoids(word, forbidden):\n",
    "    for letter in word:\n",
    "        if letter in forbidden:\n",
    "            return False\n",
    "    return True"
   ]
  },
  {
   "cell_type": "markdown",
   "metadata": {},
   "source": [
    "`uses_only` is similar except that the sense of the condition is reversed:"
   ]
  },
  {
   "cell_type": "code",
   "execution_count": null,
   "metadata": {},
   "outputs": [],
   "source": [
    "def uses_only(word, available):\n",
    "    for letter in word: \n",
    "        if letter not in available:\n",
    "            return False\n",
    "    return True"
   ]
  },
  {
   "cell_type": "markdown",
   "metadata": {},
   "source": [
    "`uses_all` is similar except that we reverse the role of the word and the string of letters:"
   ]
  },
  {
   "cell_type": "code",
   "execution_count": null,
   "metadata": {},
   "outputs": [],
   "source": [
    "def uses_all(word, required):\n",
    "    for letter in required: \n",
    "        if letter not in word:\n",
    "            return False\n",
    "    return True"
   ]
  },
  {
   "cell_type": "markdown",
   "metadata": {},
   "source": [
    "If you were really thinking like a computer scientist, you would have recognized that `uses_all` was an instance of a previously solved problem, and you would have written:"
   ]
  },
  {
   "cell_type": "code",
   "execution_count": null,
   "metadata": {},
   "outputs": [],
   "source": [
    "def uses_all(word, required):\n",
    "    return uses_only(required, word)"
   ]
  },
  {
   "cell_type": "markdown",
   "metadata": {},
   "source": [
    "This is an example of a program development plan called **reduction to a previously solved problem**, which means that you recognize the problem you are working on as an instance of a solved problem and apply an existing solution. "
   ]
  },
  {
   "cell_type": "markdown",
   "metadata": {},
   "source": [
    "## Looping with indices\n",
    "\n",
    "For <code>is_abecedarian</code> we have to compare adjacent letters, which is a little tricky with a for loop:"
   ]
  },
  {
   "cell_type": "code",
   "execution_count": null,
   "metadata": {},
   "outputs": [],
   "source": [
    "def is_abecedarian(word):\n",
    "    previous = word[0]\n",
    "    for c in word:\n",
    "        if c < previous:\n",
    "            return False\n",
    "        previous = c\n",
    "    return True"
   ]
  },
  {
   "cell_type": "markdown",
   "metadata": {},
   "source": [
    "### ***Exercise 02***\n",
    "1. Rewrite <code>is_abecedarian</code> using recursion\n",
    "\n",
    "2. Rewrite <code>is_abecedarian</code> using <code>while</code> loop."
   ]
  },
  {
   "cell_type": "markdown",
   "metadata": {},
   "source": [
    "## ***Exercise 03***\n",
    "\n",
    "1\\. This question is based on a Puzzler that was broadcast on the radio program Car Talk (https://www.cartalk.com/radio/puzzler):\n",
    "    \n",
    ">Give me a word with three consecutive double letters. I’ll give you a couple of words that almost qualify, but don’t. For example, the word committee, c-o-m-m-i-t-t-e-e. It would be great except for the ‘i’ that sneaks in there. Or Mississippi: M-i-s-s-i-s-s-i-p-p-i. If you could take out those i’s it would work. But there is a word that has three consecutive pairs of letters and to the best of my knowledge this may be the only word. Of course there are probably 500 more but I can only think of one. What is the word? \n",
    "        \n",
    "Finish <code>cartalk.py</code> to find it.        "
   ]
  },
  {
   "cell_type": "markdown",
   "metadata": {},
   "source": [
    "2\\. (optional) Here’s another Car Talk Puzzler(https://www.cartalk.com/radio/puzzler) you can solve with a search (not a search for the solution) :\n",
    "\n",
    ">“Recently I had a visit with my mom and we realized that the two digits that make up my age when reversed resulted in her age. For example, if she’s 73, I’m 37. We wondered how often this has happened over the years but we got sidetracked with other topics and we never came up with an answer.\n",
    "\n",
    ">“When I got home I figured out that the digits of our ages have been reversible six times so far. I also figured out that if we’re lucky it would happen again in a few years, and if we’re really lucky it would happen one more time after that. In other words, it would have happened 8 times over all. So the question is, how old am I now?”\n",
    "\n",
    "Write a Python program that searches for solutions to this Puzzler. Hint: you might find the string method <code>zfill</code> useful."
   ]
  }
 ],
 "metadata": {
  "anaconda-cloud": {},
  "kernelspec": {
   "display_name": "Python 3",
   "language": "python",
   "name": "python3"
  },
  "language_info": {
   "codemirror_mode": {
    "name": "ipython",
    "version": 3
   },
   "file_extension": ".py",
   "mimetype": "text/x-python",
   "name": "python",
   "nbconvert_exporter": "python",
   "pygments_lexer": "ipython3",
   "version": "3.8.10"
  }
 },
 "nbformat": 4,
 "nbformat_minor": 4
}
