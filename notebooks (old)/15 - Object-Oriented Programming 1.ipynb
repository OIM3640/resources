{
 "cells": [
  {
   "cell_type": "markdown",
   "metadata": {},
   "source": [
    "# Classes and objects\n",
    "\n",
    "\n",
    "## Programmer-defined types\n",
    "\n",
    "We have learned a lot of Python's built-in types. Now let's define a new type: <code>Point</code>, to represent a point in 2-D space.\n",
    "\n",
    "There are several ways we might represent points in Python:\n",
    "\n",
    "- We could store the coordinates separately in **two variables**, `x` and `y`.\n",
    "- We could store the coordinates as elements in a **list** or **tuple**.\n",
    "- We could create a new type to represent points as **objects**.\n",
    "\n",
    "Creating a new type is more complicated than the other options, but it has advantages that will be apparent soon.\n",
    "\n",
    "A programmer-defined type is also called a **class**. A class definition looks like this: "
   ]
  },
  {
   "cell_type": "code",
   "execution_count": 1,
   "metadata": {},
   "outputs": [],
   "source": [
    "class Point:\n",
    "    \"\"\"Represents a point in 2-D space.\"\"\""
   ]
  },
  {
   "cell_type": "markdown",
   "metadata": {},
   "source": [
    "The header indicates that the new class is called <code>Point</code>. The body is a docstring that explains what the class is for. You can define variables and methods inside a class definition, but we will get back to that later. \n",
    "\n",
    "\n",
    "The class object is like a factory for creating objects. To create a Point, you call <code>Point</code> as if it were a function."
   ]
  },
  {
   "cell_type": "code",
   "execution_count": 2,
   "metadata": {},
   "outputs": [
    {
     "data": {
      "text/plain": [
       "<__main__.Point at 0x1b4e7fbf208>"
      ]
     },
     "execution_count": 2,
     "metadata": {},
     "output_type": "execute_result"
    }
   ],
   "source": [
    "my_point = Point()\n",
    "my_point"
   ]
  },
  {
   "cell_type": "markdown",
   "metadata": {},
   "source": [
    "The return value is a reference to a Point object, which we assign to <code>my_point</code>.\n",
    "\n",
    "Creating a new object is called **instantiation**, and the object is an **instance** of the class. "
   ]
  },
  {
   "cell_type": "code",
   "execution_count": 3,
   "metadata": {},
   "outputs": [
    {
     "name": "stdout",
     "output_type": "stream",
     "text": [
      "<class '__main__.Point'>\n",
      "True\n"
     ]
    }
   ],
   "source": [
    "print(type(my_point))\n",
    "print(isinstance(my_point, Point))"
   ]
  },
  {
   "cell_type": "markdown",
   "metadata": {},
   "source": [
    "## Attributes\n",
    "\n"
   ]
  },
  {
   "cell_type": "code",
   "execution_count": 4,
   "metadata": {},
   "outputs": [],
   "source": [
    "# You can assign values to an instance using dot notation:\n",
    "my_point.x = 3\n",
    "my_point.y = 4"
   ]
  },
  {
   "cell_type": "markdown",
   "metadata": {},
   "source": [
    "The variable <code>my_point</code> refers to a `Point` object, which contains two attributes. Each attribute refers to a floating-point number."
   ]
  },
  {
   "cell_type": "code",
   "execution_count": 5,
   "metadata": {},
   "outputs": [
    {
     "name": "stdout",
     "output_type": "stream",
     "text": [
      "3\n",
      "4\n",
      "4\n",
      "3\n"
     ]
    }
   ],
   "source": [
    "print(my_point.x)\n",
    "print(my_point.y)\n",
    "x = my_point.y\n",
    "print(x)\n",
    "print(my_point.x)"
   ]
  },
  {
   "cell_type": "markdown",
   "metadata": {},
   "source": [
    "The expression <code>my_point.y</code> means, “Go to the object <code>my_point</code> refers to and get the value of <code>y</code>.” In the example, we assign that value to a variable named <code>x</code>. There is no conflict between the variable <code>x</code> and the attribute <code>x</code>.\n",
    "\n",
    "You can use dot notation as part of any expression. For example:\n"
   ]
  },
  {
   "cell_type": "code",
   "execution_count": 6,
   "metadata": {},
   "outputs": [
    {
     "name": "stdout",
     "output_type": "stream",
     "text": [
      "(3, 4)\n",
      "5.0\n"
     ]
    }
   ],
   "source": [
    "import math\n",
    "\n",
    "print(f'({my_point.x}, {my_point.y})')\n",
    "distance = math.sqrt(my_point.x**2 + my_point.y**2)\n",
    "print(distance)"
   ]
  },
  {
   "cell_type": "markdown",
   "metadata": {},
   "source": [
    "You can pass an instance as an argument in the usual way. For example:"
   ]
  },
  {
   "cell_type": "code",
   "execution_count": 7,
   "metadata": {},
   "outputs": [
    {
     "name": "stdout",
     "output_type": "stream",
     "text": [
      "(3, 4)\n"
     ]
    }
   ],
   "source": [
    "def print_point(p):\n",
    "    print(f'({p.x}, {p.y})')\n",
    "    \n",
    "print_point(my_point)"
   ]
  },
  {
   "cell_type": "markdown",
   "metadata": {},
   "source": [
    "Inside the function, <code>p</code> is an alias for <code>my_point</code>, so if the function modifies <code>p</code>, <code>my_point</code> changes. \n",
    "\n",
    "\n",
    "If you are not sure whether an object has a particular attribute, you can use the built-in function hasattr: "
   ]
  },
  {
   "cell_type": "code",
   "execution_count": 8,
   "metadata": {},
   "outputs": [
    {
     "name": "stdout",
     "output_type": "stream",
     "text": [
      "True\n",
      "False\n"
     ]
    }
   ],
   "source": [
    "print(hasattr(my_point, 'x'))\n",
    "print(hasattr(my_point, 'z'))"
   ]
  },
  {
   "cell_type": "markdown",
   "metadata": {},
   "source": [
    "### ***Exercise 01***\n",
    "\n",
    "Write a function called <code>distance_between_points</code> that takes two Points as arguments and returns the distance between them."
   ]
  },
  {
   "cell_type": "markdown",
   "metadata": {},
   "source": [
    "## Rectangular\n",
    "\n",
    "Imagine you are designing a class to represent rectangles. What attributes would you use to specify the location and size of a rectangle? You can ignore angle; to keep things simple, assume that the rectangle is either vertical or horizontal. "
   ]
  },
  {
   "cell_type": "code",
   "execution_count": 9,
   "metadata": {},
   "outputs": [],
   "source": [
    "class Rectangle:\n",
    "    \"\"\"Represents a rectangle. \n",
    "\n",
    "    attributes: width, height, corner.\n",
    "    \"\"\""
   ]
  },
  {
   "cell_type": "markdown",
   "metadata": {},
   "source": [
    "The docstring lists the attributes: width and height are numbers; corner is a Point object that specifies the lower-left corner."
   ]
  },
  {
   "cell_type": "code",
   "execution_count": 10,
   "metadata": {},
   "outputs": [],
   "source": [
    "box = Rectangle()\n",
    "box.width = 100.0\n",
    "box.height = 200.0\n",
    "box.corner = Point() \n",
    "box.corner.x = 0.0\n",
    "box.corner.y = 0.0"
   ]
  },
  {
   "cell_type": "markdown",
   "metadata": {},
   "source": [
    "An object that is an attribute of another object is **embedded**. "
   ]
  },
  {
   "cell_type": "markdown",
   "metadata": {},
   "source": [
    "### Instances as return values"
   ]
  },
  {
   "cell_type": "code",
   "execution_count": 11,
   "metadata": {},
   "outputs": [
    {
     "name": "stdout",
     "output_type": "stream",
     "text": [
      "(50.0, 100.0)\n"
     ]
    }
   ],
   "source": [
    "def find_center(rect):\n",
    "    p = Point()\n",
    "    p.x = rect.corner.x + rect.width/2\n",
    "    p.y = rect.corner.y + rect.height/2\n",
    "    return p\n",
    "\n",
    "center = find_center(box)\n",
    "print_point(center)"
   ]
  },
  {
   "cell_type": "markdown",
   "metadata": {},
   "source": [
    "## Objects are mutable"
   ]
  },
  {
   "cell_type": "code",
   "execution_count": 12,
   "metadata": {},
   "outputs": [],
   "source": [
    "box.width = box.width + 50\n",
    "box.height = box.height + 100"
   ]
  },
  {
   "cell_type": "markdown",
   "metadata": {},
   "source": [
    "You can also write functions that modify objects. "
   ]
  },
  {
   "cell_type": "code",
   "execution_count": 13,
   "metadata": {},
   "outputs": [
    {
     "name": "stdout",
     "output_type": "stream",
     "text": [
      "150.0\n",
      "300.0\n",
      "grow\n",
      "200.0\n",
      "400.0\n"
     ]
    }
   ],
   "source": [
    "def grow_rectangle(rect, dwidth, dheight):\n",
    "    rect.width += dwidth\n",
    "    rect.height += dheight\n",
    "    \n",
    "print(box.width)\n",
    "print(box.height)\n",
    "print('grow')\n",
    "grow_rectangle(box, 50, 100)\n",
    "print(box.width)\n",
    "print(box.height)"
   ]
  },
  {
   "cell_type": "markdown",
   "metadata": {},
   "source": [
    "## Copying\n"
   ]
  },
  {
   "cell_type": "code",
   "execution_count": 14,
   "metadata": {},
   "outputs": [
    {
     "name": "stdout",
     "output_type": "stream",
     "text": [
      "(3.0, 4.0)\n",
      "(3.0, 4.0)\n"
     ]
    }
   ],
   "source": [
    "p1 = Point()\n",
    "p1.x = 3.0\n",
    "p1.y = 4.0\n",
    "\n",
    "import copy\n",
    "p2 = copy.copy(p1)\n",
    "\n",
    "print_point(p1)\n",
    "print_point(p2)"
   ]
  },
  {
   "cell_type": "markdown",
   "metadata": {},
   "source": [
    "`p1` and `p2` contain the same data, but they are not the same `Point`."
   ]
  },
  {
   "cell_type": "code",
   "execution_count": 15,
   "metadata": {},
   "outputs": [
    {
     "name": "stdout",
     "output_type": "stream",
     "text": [
      "False\n",
      "False\n"
     ]
    }
   ],
   "source": [
    "print(p1 is p2)\n",
    "print(p1 == p2)"
   ]
  },
  {
   "cell_type": "markdown",
   "metadata": {},
   "source": [
    "Because for programmer-defined types, Python doesn’t know what should be considered equivalent. At least, not yet. "
   ]
  },
  {
   "cell_type": "markdown",
   "metadata": {},
   "source": [
    "### ***Exercise 02***\n",
    "\n",
    "Write a definition for a class named <code>Circle</code> with attributes <code>center</code> and <code>radius</code>, where <code>center</code> is a <code>Point</code> object and <code>radius</code> is a number.\n",
    "\n",
    "Instantiate a `Circle` object that represents a circle with its center at (150, 100) and radius 75.\n",
    "\n",
    "Write a function named <code>point_in_circle</code> that takes a Circle and a Point and returns <code>True</code> if the Point lies in or on the boundary of the circle.\n",
    "\n",
    "Write a function named <code>rect_in_circle</code> that takes a Circle and a Rectangle and returns <code>True</code> if the Rectangle lies entirely in or on the boundary of the circle.\n",
    "\n",
    "Write a function named <code>rect_circle_overlap</code> that takes a Circle and a Rectangle and returns <code>True</code> if any of the corners of the Rectangle fall inside the circle. Or as a more challenging version, return <code>True</code> if any part of the Rectangle falls inside the circle."
   ]
  }
 ],
 "metadata": {
  "anaconda-cloud": {},
  "kernelspec": {
   "display_name": "Python 3",
   "language": "python",
   "name": "python3"
  },
  "language_info": {
   "codemirror_mode": {
    "name": "ipython",
    "version": 3
   },
   "file_extension": ".py",
   "mimetype": "text/x-python",
   "name": "python",
   "nbconvert_exporter": "python",
   "pygments_lexer": "ipython3",
   "version": "3.8.10"
  }
 },
 "nbformat": 4,
 "nbformat_minor": 4
}
