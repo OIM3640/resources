{
 "cells": [
  {
   "cell_type": "markdown",
   "id": "11943b6f",
   "metadata": {},
   "source": [
    "# Assignment 1 - 2025 Fall\n",
    "\n",
    "**Due Date:** Check Canvas for deadline.  \n",
    "\n",
    "**Instructions:**  \n",
    "- Download this file (`hw1.ipynb`) into your `OIM3640/notebooks` folder.  \n",
    "- Commit and push to GitHub when you finish. (Highly recommended: make at least one commit for each sub-question.)  \n",
    "- You also need to upload `hw1.ipynb` to Canvas for the official timestamp.  \n",
    "\n",
    "**Academic Integrity**  \n",
    "- Do not paste full AI-generated solutions.  \n",
    "- If you consulted AI for hints, add a brief note about how you modified/understood it.\n",
    "\n",
    "**Practice topics**: variables, expressions, types, functions, conditionals, loops, randomness, turtle visualization, and formatted output.\n",
    "\n",
    "**Rubric**: [Code Grading Rubric](https://github.com/oim3640/resources/blob/main/code_grading_rubric.md)\n",
    "\n",
    "---"
   ]
  },
  {
   "cell_type": "markdown",
   "id": "eb405b95",
   "metadata": {},
   "source": [
    "## Q1. Drunkard Walk — Function Decomposition & Design\n",
    "\n",
    "\n",
    "\n",
    "John is drunk today. Starting from a given starting point, he walks on a grid of streets. At each intersection, he **randomly** picks one of four directions and stumbles to the next intersection. You might think that, on average, John does not move very far because the random choices cancel each other out, but that is actually not the case.\n",
    "\n",
    "### 1. Function Implementation\n",
    "\n",
    "- Implement the function `drunkard_walk(x, y, n)` below, which takes the starting coordinates `(x, y)` and the number of steps `n`, and returns the final coordinates and the [Manhattan distance](https://en.wikipedia.org/wiki/Taxicab_geometry) (i.e., the sum of horizontal and vertical distances).\n",
    "- Explain your logic clearly in comments, especially:\n",
    "  - How does your function handle random movement?\n",
    "  - Are there alternative ways to implement this?"
   ]
  },
  {
   "cell_type": "code",
   "execution_count": null,
   "id": "622b0c40",
   "metadata": {},
   "outputs": [],
   "source": [
    "def drunkard_walk(x, y, n):\n",
    "    pass # Your code here\n",
    "    \n",
    "\n",
    "\n",
    "def test_drunkard_walk():\n",
    "    \"\"\"\n",
    "    Please do not change the code below.\n",
    "    \"\"\"\n",
    "    x_start = 0\n",
    "    y_start = 0\n",
    "    steps = 100\n",
    "    print(f\"The drunkard started from ({x_start}, {y_start}).\")\n",
    "    x_end, y_end, distance = drunkard_walk(x_start, y_start, steps)\n",
    "    print(\n",
    "        f\"After {steps} intersections, he is at ({x_end}, {y_end}), which is {distance} blocks from where he started.\"\n",
    "    )\n",
    "\n",
    "\n",
    "test_drunkard_walk()\n"
   ]
  },
  {
   "cell_type": "markdown",
   "id": "43fba597",
   "metadata": {},
   "source": [
    "### 2. Function Decomposition\n",
    "\n",
    "- In the empty cell below, break down the function `drunkard_walk` in above **into two separate functions** which should achieve the same goal. Note that the results might not be the same, unless the same `random.seed()` is used.\n",
    "- Make sure you have code that calls functions.\n",
    "- Try it yourself, then check the hints section in the bottom if needed.\n"
   ]
  },
  {
   "cell_type": "code",
   "execution_count": null,
   "id": "0e739d85",
   "metadata": {},
   "outputs": [],
   "source": [
    "# Your code here"
   ]
  },
  {
   "cell_type": "markdown",
   "id": "23b72462",
   "metadata": {},
   "source": [
    "### 3. Multiple Simulations for Statistical Analysis\n",
    "\n",
    "- To better understand random processes, create function(s) in the empty cell below to run **1,000 simulations** of the drunkard's walk and compute the **average** Manhattan distance. You can reuse the functions from above.\n",
    "- **Note**: Since we have not yet learned about lists, **use only accumulator variables** to store results instead of storing all individual simulation values."
   ]
  },
  {
   "cell_type": "markdown",
   "id": "7aec6ed7",
   "metadata": {},
   "source": [
    "## Question 2: Visualizing the Drunkard's Walk with Turtle\n",
    "\n",
    "- Use **jupyturtle** to visually represent John's walk from the previous question (part 1). The starting and ending location should be highlighted in **<span style=\"color:red;\">red</span>**. Note that the drawn path does not have to be the same as the one calculated in Question 1, unless the same `random.seed()` is used.\n",
    "- Make sure the visualization is clear — you can consider adding markers, different colors for movements, or pauses between steps, etc., but these are not required."
   ]
  },
  {
   "cell_type": "code",
   "execution_count": null,
   "id": "9acc66d4",
   "metadata": {},
   "outputs": [],
   "source": [
    "# Your code here\n",
    "# from jupyturtle import ...\n"
   ]
  },
  {
   "cell_type": "markdown",
   "id": "8f46c944",
   "metadata": {},
   "source": [
    "## Question 3: Mortgage Repayment Simulation\n",
    "\n",
    "Write Python code below to solve the following problems:\n",
    "\n",
    "### 1. `total()`\n",
    "\n",
    "John is taking out a $30000 multi-year fixed-rate mortgage to purchase a new car. The interest rate is 6.9% and the monthly payment is $510.04. Finish the function below, `total()`, that takes in total principal, interest rate and monthly payment as arguments, and calculates the total amount that John will have to pay over the life of the mortgage, ignoring the overpayment that occurs in the last month.\n",
    "\n",
    "    **Hint 1**: You can use the following formula to calculate the remaining principal of any month:\n",
    "    > Remaining principal of this month = Remaining principal of last month * (1 + Rate / 12) - Monthly payment.\n",
    "\n",
    "    **Hint 2**: The total amount that John will have to pay over the life of the mortgage, which is the answer to this question, is $36722.88.\n",
    "\n",
    "    **Hint 3**: Notice the number of months is not given - use this as a hint to choose the loop type between `while` and `for`."
   ]
  },
  {
   "cell_type": "code",
   "execution_count": null,
   "id": "d51138eb",
   "metadata": {},
   "outputs": [],
   "source": [
    "def total(principal, rate, payment):\n",
    "    pass # Your code here"
   ]
  },
  {
   "cell_type": "code",
   "execution_count": null,
   "id": "b40ce5f1",
   "metadata": {},
   "outputs": [],
   "source": [
    "principal = 30000\n",
    "rate = 0.069\n",
    "payment = 510.04\n",
    "\n",
    "print(\"Part 1:\")\n",
    "total(principal, rate, payment)"
   ]
  },
  {
   "cell_type": "markdown",
   "id": "d085adc2",
   "metadata": {},
   "source": [
    "### 2. `total_2()`\n",
    "\n",
    "John decides to pay an extra amount for the first 12 months of the mortgage to end it earlier. In the empty cell below, create a new function, `total_2()`, that takes in total principal, interest rate, monthly payment, the extra payment amount as arguments and prints the total amount paid and the number of months, assuming only first paying extra amount for the first 12 months. (For example, if the extra payment is $200, you should get a total payment of $36062.64 over 66 months, which actually is not a lot less. Note: this is just an example, you should not hardcode these values in your function.)"
   ]
  },
  {
   "cell_type": "code",
   "execution_count": null,
   "id": "f388175f",
   "metadata": {},
   "outputs": [],
   "source": [
    "# Your code here"
   ]
  },
  {
   "cell_type": "code",
   "execution_count": null,
   "id": "4447c32a",
   "metadata": {},
   "outputs": [],
   "source": [
    "\n",
    "print(\"Part 2:\")\n",
    "# Your code that calls total_2() with appropriate arguments"
   ]
  },
  {
   "cell_type": "markdown",
   "id": "a9bf599f",
   "metadata": {},
   "source": [
    "### 3. `total_3()`\n",
    "\n",
    "John decides to pay an extra amount for a certain period of time, not necessarily the first 12 months. Create a new function, `total_3()`, that takes in total principal, interest rate, monthly payment, the extra payment amount, starting month, and ending month as arguments, and calculates the total amount that John will have to pay over the life of the mortgage. (For example, the extra month payment of $300.00 could start from the 13th month and end at the 36th month. Again, you should not hardcode these values in your function.)"
   ]
  },
  {
   "cell_type": "code",
   "execution_count": null,
   "id": "de33324b",
   "metadata": {},
   "outputs": [],
   "source": [
    "# Your code here"
   ]
  },
  {
   "cell_type": "code",
   "execution_count": null,
   "id": "c5fc842d",
   "metadata": {},
   "outputs": [],
   "source": [
    "print(\"Part 3:\")\n",
    "# Your code that calls total_3() with appropriate arguments"
   ]
  },
  {
   "cell_type": "markdown",
   "id": "054dbb9f",
   "metadata": {},
   "source": [
    "### 4. `total_4()`\n",
    "\n",
    "Create a new function, `total_4()` (based on previous function, `total_3()` - you don't have to call `total_3()` in `total_4()`), that **prints** the month number, total paid amount so far, and the remaining principal every month **in a nice format**. For example, if John starts to pay extra month payment of $300.00 from the 13th month to the 36th month, the output should look **exactly** like this:\n",
    "```text\n",
    " 1, $  510.04, $29662.46\n",
    " 2, $ 1020.08, $29322.98\n",
    " 3, $ 1530.12, $28981.55\n",
    "...\n",
    "11, $ 5610.44, $26178.45\n",
    "12, $ 6120.48, $25818.94\n",
    "13, $ 6930.52, $25157.36\n",
    "...\n",
    "35, $24751.40, $ 9600.26\n",
    "36, $25561.44, $ 8845.42\n",
    "37, $26071.48, $ 8386.24\n",
    "...\n",
    "53, $34232.12, $  669.77\n",
    "54, $34742.16, $  163.58\n",
    "55, $35252.20, $ -345.52\n",
    "```"
   ]
  },
  {
   "cell_type": "code",
   "execution_count": null,
   "id": "4ef3eac0",
   "metadata": {},
   "outputs": [],
   "source": [
    "# Your code here"
   ]
  },
  {
   "cell_type": "code",
   "execution_count": null,
   "id": "9165a46b",
   "metadata": {},
   "outputs": [],
   "source": [
    "print(\"Part 4:\")\n",
    "# Your code that calls total_4() with appropriate arguments"
   ]
  },
  {
   "cell_type": "markdown",
   "id": "b608a0b9",
   "metadata": {},
   "source": [
    "### 5. `total_5()`\n",
    "\n",
    "Create a new function, `total_5()` (based on the previous function), that prints almost the same table, but corrects for the overpayment that occurs in the last month."
   ]
  },
  {
   "cell_type": "code",
   "execution_count": null,
   "id": "8eb505c1",
   "metadata": {},
   "outputs": [],
   "source": [
    "# Your code here"
   ]
  },
  {
   "cell_type": "code",
   "execution_count": null,
   "id": "73f5aaef",
   "metadata": {},
   "outputs": [],
   "source": [
    "print(\"Part 5:\")\n",
    "# Your code that calls total_5() with appropriate arguments"
   ]
  },
  {
   "cell_type": "markdown",
   "id": "c108cb6a",
   "metadata": {},
   "source": [
    "### 6. Reflection\n",
    "\n",
    "Write a short reflection in Markdown cell below on discussing the following questions: \n",
    "- What edge cases did you consider when implementing/testing your functions? (Note: edge cases are inputs that produce unexpected results, and they are often found at the extreme ends of the ranges of input values.) You don't have to write code for these test cases for this assignment.\n",
    "- If you were to extend/redesign this program, what additional features would you add/implement?\n"
   ]
  },
  {
   "cell_type": "markdown",
   "id": "ca2099dc",
   "metadata": {},
   "source": []
  },
  {
   "cell_type": "markdown",
   "id": "7127f320",
   "metadata": {},
   "source": [
    "## Question 4: Design Your Own Problem\n",
    "\n",
    "Design a programming problem that incorporates all the programming concepts we've learned so far, including variables, types, functions, conditional statements, and iterations. Avoid using data structures like lists or dictionaries unless you have a strong grasp of these concepts. Be creative and think of a real-world scenario that people can relate to. Your problem should be original. Please do not use AI assistants like ChatGPT or copy from any external sources.\n",
    "\n",
    "Your code should include:\n",
    "\n",
    "- A clear problem description at the top of the Python file as a comment.\n",
    "- One or more functions that solve the problem you've developed.\n",
    "- A `main()` function that demonstrates how to use your function(s).\n",
    "- In the comments at the bottom of the file, explain:\n",
    "  - Why did you choose this problem?\n",
    "  - How does your problem showcase the Python concepts we've learned so far?\n",
    "  - Where can this problem be applied in real life?\n",
    "  - What challenges did you face while implementing it?\n",
    "\n",
    "Your problem will be evaluated on originality, use of Python concepts, clarity, real-world relevance, and code quality. Remember, the goal is to showcase your understanding of Python through a practical, engaging problem of your own design. Be creative and have fun!"
   ]
  },
  {
   "cell_type": "code",
   "execution_count": null,
   "id": "14e36020",
   "metadata": {},
   "outputs": [],
   "source": [
    "def main():\n",
    "    pass\n",
    "\n",
    "main()\n"
   ]
  },
  {
   "cell_type": "markdown",
   "id": "48f199a5",
   "metadata": {},
   "source": [
    "## Question 5. Your Dream Python Project (Markdown Only)\n",
    "\n",
    "Now step back from coding. Instead of solving a problem with Python code (as in Q4), here you will imagine and describe a project you would love to build with Python in the future.\n",
    "\n",
    "- Write your answer in Markdown format directly in this notebook.\n",
    "- No code is required here. This is about creativity and vision, not implementation.\n",
    "- Be as wild or practical as you want — your idea could be a tool, a product, a game, a research project, or something personal.\n",
    "\n",
    "Your write-up in the Markdown cell below should cover:\n",
    "\n",
    "- Project idea: What would you build?\n",
    "- Target users: Who would use it?\n",
    "- Core features: What does it do?\n",
    "- Why it matters: Why would this project be useful, meaningful, or fun?\n",
    "- (Optional) MVP: What’s the simplest first version you could make?\n",
    "\n",
    "**Important**: Do not use AI to generate your answer. This should be your own passion and imagination."
   ]
  },
  {
   "cell_type": "markdown",
   "id": "de9bb1c8",
   "metadata": {},
   "source": []
  },
  {
   "cell_type": "markdown",
   "id": "67975969",
   "metadata": {},
   "source": [
    "---\n",
    "\n",
    "## Hints\n",
    "\n",
    "- Q1.2: You might want to create one function for getting final coordinates after `n` steps, and another function for calculating Manhattan distance.\n",
    "- Q3.4: Use Python's formatted string literals (f-strings) to format the output neatly. For example, `f\"{value:,.2f}\"` formats `value` with commas as thousands separators and two decimal places."
   ]
  },
  {
   "cell_type": "markdown",
   "id": "b022df3e",
   "metadata": {},
   "source": [
    "_Updated:_ _9/22/2025_"
   ]
  }
 ],
 "metadata": {
  "language_info": {
   "name": "python"
  }
 },
 "nbformat": 4,
 "nbformat_minor": 5
}
